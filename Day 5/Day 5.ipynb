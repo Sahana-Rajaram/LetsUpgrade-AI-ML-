{
 "cells": [
  {
   "cell_type": "code",
   "execution_count": 1,
   "metadata": {},
   "outputs": [
    {
     "name": "stdout",
     "output_type": "stream",
     "text": [
      "3 prime number\n",
      "5 prime number\n",
      "7 prime number\n",
      "11 prime number\n",
      "13 prime number\n",
      "17 prime number\n",
      "19 prime number\n",
      "23 prime number\n",
      "29 prime number\n",
      "31 prime number\n",
      "37 prime number\n",
      "41 prime number\n",
      "43 prime number\n",
      "47 prime number\n",
      "53 prime number\n",
      "59 prime number\n",
      "61 prime number\n",
      "67 prime number\n",
      "71 prime number\n",
      "73 prime number\n"
     ]
    }
   ],
   "source": [
    "end =75\n",
    "    \n",
    "for i in range(2, 75): \n",
    "    if i > 1: \n",
    "        for n in range(2, i//2 + 2): \n",
    "            if (i% n) == 0: \n",
    "                break\n",
    "            else: \n",
    "                if n == i//2 + 1: \n",
    "                    print(i,\"prime number\")"
   ]
  },
  {
   "cell_type": "code",
   "execution_count": 2,
   "metadata": {},
   "outputs": [
    {
     "name": "stdout",
     "output_type": "stream",
     "text": [
      "enter 1 stringmalayalam\n",
      "enter 2 stringadd\n",
      "the palindrome\n"
     ]
    }
   ],
   "source": [
    "s=str(input(\"enter 1 string\"))\n",
    "p=str(input(\"enter 2 string\"))\n",
    "def word():\n",
    "    if sorted(s)==sorted(p):\n",
    "        print (\"the string is anagram\")\n",
    "    else:\n",
    "        print(\"palindrome\")\n",
    "word()"
   ]
  },
  {
   "cell_type": "code",
   "execution_count": 7,
   "metadata": {},
   "outputs": [
    {
     "name": "stdout",
     "output_type": "stream",
     "text": [
      "string is DR.DARSHAN@\n"
     ]
    },
    {
     "ename": "NameError",
     "evalue": "name 'replce_char' is not defined",
     "output_type": "error",
     "traceback": [
      "\u001b[1;31m---------------------------------------------------------------------------\u001b[0m",
      "\u001b[1;31mNameError\u001b[0m                                 Traceback (most recent call last)",
      "\u001b[1;32m<ipython-input-7-257af3356686>\u001b[0m in \u001b[0;36m<module>\u001b[1;34m\u001b[0m\n\u001b[0;32m      8\u001b[0m \u001b[0mstring_5\u001b[0m\u001b[1;33m=\u001b[0m\u001b[1;34m'DR.DARSHAN@'\u001b[0m\u001b[1;33m\u001b[0m\u001b[1;33m\u001b[0m\u001b[0m\n\u001b[0;32m      9\u001b[0m \u001b[0mprint\u001b[0m\u001b[1;33m(\u001b[0m\u001b[1;34m\"string is\"\u001b[0m\u001b[1;33m,\u001b[0m\u001b[0mstring_5\u001b[0m\u001b[1;33m)\u001b[0m\u001b[1;33m\u001b[0m\u001b[1;33m\u001b[0m\u001b[0m\n\u001b[1;32m---> 10\u001b[1;33m \u001b[0mreplce_char\u001b[0m\u001b[1;33m(\u001b[0m\u001b[0mstring_5\u001b[0m\u001b[1;33m)\u001b[0m\u001b[1;33m\u001b[0m\u001b[1;33m\u001b[0m\u001b[0m\n\u001b[0m",
      "\u001b[1;31mNameError\u001b[0m: name 'replce_char' is not defined"
     ]
    }
   ],
   "source": [
    "def replace_char(y):\n",
    "    invalid_list = ['!','2','#','$','.']\n",
    "    for i in invalid_list :\n",
    "        y = y .replace(i,'')\n",
    "        y = y.lower()\n",
    "    print (\"answer\",y)\n",
    "\n",
    "string_5= 'DR.DARSHAN@'\n",
    "print(\"string is\", string_5)\n",
    "replce_char(string_5)"
   ]
  },
  {
   "cell_type": "code",
   "execution_count": 23,
   "metadata": {},
   "outputs": [
    {
     "name": "stdout",
     "output_type": "stream",
     "text": [
      "machine learning\n",
      "m\n",
      "MACHINE LEARNING\n",
      "machine learning\n",
      "machiny lyarning\n",
      "achi\n",
      "machin\n",
      "0 letters found\n"
     ]
    }
   ],
   "source": [
    "w='machine learning'\n",
    "print(w)\n",
    "print(w[0])\n",
    "print(w.upper())\n",
    "print(w.lower())\n",
    "print(w.replace('e','y'))\n",
    "print(w[1:5])\n",
    "print(w[:6])\n",
    "count = 0\n",
    "for o in w:\n",
    "    if(letter == 'l'):\n",
    "        count += 1\n",
    "print(count,'letters found')\n",
    "\n",
    "\n",
    "\n"
   ]
  },
  {
   "cell_type": "code",
   "execution_count": null,
   "metadata": {},
   "outputs": [],
   "source": []
  }
 ],
 "metadata": {
  "kernelspec": {
   "display_name": "Python 3",
   "language": "python",
   "name": "python3"
  },
  "language_info": {
   "codemirror_mode": {
    "name": "ipython",
    "version": 3
   },
   "file_extension": ".py",
   "mimetype": "text/x-python",
   "name": "python",
   "nbconvert_exporter": "python",
   "pygments_lexer": "ipython3",
   "version": "3.7.6"
  }
 },
 "nbformat": 4,
 "nbformat_minor": 4
}
